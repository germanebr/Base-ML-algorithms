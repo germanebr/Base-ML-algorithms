{
 "cells": [
  {
   "cell_type": "markdown",
   "metadata": {
    "id": "CXRrNSnTYsSw"
   },
   "source": [
    "## Import here all the libraries"
   ]
  },
  {
   "cell_type": "code",
   "execution_count": null,
   "metadata": {
    "colab": {
     "base_uri": "https://localhost:8080/"
    },
    "executionInfo": {
     "elapsed": 46270,
     "status": "ok",
     "timestamp": 1657230953543,
     "user": {
      "displayName": "Anyinssan Nava Sánchez",
      "userId": "17620918484939311505"
     },
     "user_tz": 240
    },
    "id": "C5uXRA2_YeTA",
    "outputId": "b17699dd-a9d4-4355-e3b8-03762ca6110e"
   },
   "outputs": [
    {
     "name": "stderr",
     "output_type": "stream",
     "text": [
      "[nltk_data] Downloading package stopwords to /root/nltk_data...\n",
      "[nltk_data]   Unzipping corpora/stopwords.zip.\n",
      "[nltk_data] Downloading package wordnet to /root/nltk_data...\n",
      "[nltk_data] Downloading package omw-1.4 to /root/nltk_data...\n",
      "[nltk_data] Downloading package punkt to /root/nltk_data...\n",
      "[nltk_data]   Unzipping tokenizers/punkt.zip.\n"
     ]
    },
    {
     "name": "stdout",
     "output_type": "stream",
     "text": [
      "\u001b[K     |████████████████████████████████| 4.9 MB 5.5 MB/s \n",
      "\u001b[K     |████████████████████████████████| 1.8 MB 5.1 MB/s \n",
      "\u001b[K     |████████████████████████████████| 596 kB 7.9 MB/s \n",
      "\u001b[K     |████████████████████████████████| 92 kB 4.7 MB/s \n",
      "\u001b[K     |████████████████████████████████| 48.3 MB 160 kB/s \n",
      "\u001b[K     |████████████████████████████████| 1.1 MB 39.5 MB/s \n",
      "\u001b[K     |████████████████████████████████| 99 kB 4.5 MB/s \n",
      "\u001b[K     |████████████████████████████████| 1.2 MB 32.2 MB/s \n",
      "\u001b[K     |████████████████████████████████| 237 kB 68.4 MB/s \n",
      "\u001b[K     |████████████████████████████████| 352 kB 36.1 MB/s \n",
      "\u001b[K     |████████████████████████████████| 43 kB 1.6 MB/s \n",
      "\u001b[?25h  Building wheel for py-cpuinfo (setup.py) ... \u001b[?25l\u001b[?25hdone\n",
      "  Building wheel for seqeval (setup.py) ... \u001b[?25l\u001b[?25hdone\n"
     ]
    }
   ],
   "source": [
    "import numpy as np\n",
    "import matplotlib.pyplot as plt\n",
    "import pandas as pd\n",
    "import seaborn as sns\n",
    "# import plotly.express as px\n",
    "import random\n",
    "from keras.utils import np_utils\n",
    "from scipy.stats import multivariate_normal as mvn\n",
    "\n",
    "import string\n",
    "import re #regular expressions\n",
    "import nltk\n",
    "from nltk import word_tokenize\n",
    "from nltk.corpus import stopwords\n",
    "from nltk.stem.porter import PorterStemmer\n",
    "from nltk.stem import WordNetLemmatizer\n",
    "from __future__ import absolute_import, division, print_function, unicode_literals\n",
    "nltk.download('stopwords')\n",
    "nltk.download('wordnet')\n",
    "nltk.download('omw-1.4')\n",
    "nltk.download('punkt')\n",
    "\n",
    "!pip install -q -U \"tensorflow-text==2.8.*\"\n",
    "!pip install -q tf-models-official==2.7.0\n",
    "import tensorflow as tf\n",
    "import tensorflow_hub as hub\n",
    "import tensorflow_datasets as tfds\n",
    "from tensorflow import keras\n",
    "import tensorflow_text as text\n",
    "from official.nlp import optimization\n",
    "\n",
    "#Import .py file of general algorithms\n",
    "from general import accuracy"
   ]
  },
  {
   "cell_type": "markdown",
   "metadata": {
    "id": "En-rm2AFYvyY"
   },
   "source": [
    "## Load dataset"
   ]
  },
  {
   "cell_type": "code",
   "execution_count": null,
   "metadata": {
    "id": "nZVgTWNv0Swx"
   },
   "outputs": [],
   "source": [
    "def numLabel(data):\n",
    "  if data == 'commissive' or data == 'directive': #Regular chat\n",
    "    label = 0\n",
    "  elif data == 'inform':\n",
    "    label = 1\n",
    "  else: #Question\n",
    "    label = 2\n",
    "\n",
    "  return label"
   ]
  },
  {
   "cell_type": "code",
   "execution_count": null,
   "metadata": {
    "colab": {
     "base_uri": "https://localhost:8080/",
     "height": 206
    },
    "executionInfo": {
     "elapsed": 800,
     "status": "ok",
     "timestamp": 1657230975167,
     "user": {
      "displayName": "Anyinssan Nava Sánchez",
      "userId": "17620918484939311505"
     },
     "user_tz": 240
    },
    "id": "vZsdIegXY7hB",
    "outputId": "744bbc81-5f2e-4291-81f3-22f4988ef24b"
   },
   "outputs": [
    {
     "data": {
      "text/html": [
       "\n",
       "  <div id=\"df-3bdb4678-d12e-45e4-ad49-73a5a9746961\">\n",
       "    <div class=\"colab-df-container\">\n",
       "      <div>\n",
       "<style scoped>\n",
       "    .dataframe tbody tr th:only-of-type {\n",
       "        vertical-align: middle;\n",
       "    }\n",
       "\n",
       "    .dataframe tbody tr th {\n",
       "        vertical-align: top;\n",
       "    }\n",
       "\n",
       "    .dataframe thead th {\n",
       "        text-align: right;\n",
       "    }\n",
       "</style>\n",
       "<table border=\"1\" class=\"dataframe\">\n",
       "  <thead>\n",
       "    <tr style=\"text-align: right;\">\n",
       "      <th></th>\n",
       "      <th>Utterance</th>\n",
       "      <th>Dialogue_Act</th>\n",
       "    </tr>\n",
       "  </thead>\n",
       "  <tbody>\n",
       "    <tr>\n",
       "      <th>0</th>\n",
       "      <td>say , jim , how about going for a few beers af...</td>\n",
       "      <td>0</td>\n",
       "    </tr>\n",
       "    <tr>\n",
       "      <th>1</th>\n",
       "      <td>you know that is tempting but is really not go...</td>\n",
       "      <td>0</td>\n",
       "    </tr>\n",
       "    <tr>\n",
       "      <th>2</th>\n",
       "      <td>what do you mean ? it will help us to relax .</td>\n",
       "      <td>2</td>\n",
       "    </tr>\n",
       "    <tr>\n",
       "      <th>3</th>\n",
       "      <td>do you really think so ? i don't . it will jus...</td>\n",
       "      <td>2</td>\n",
       "    </tr>\n",
       "    <tr>\n",
       "      <th>4</th>\n",
       "      <td>i guess you are right.but what shall we do ? i...</td>\n",
       "      <td>2</td>\n",
       "    </tr>\n",
       "  </tbody>\n",
       "</table>\n",
       "</div>\n",
       "      <button class=\"colab-df-convert\" onclick=\"convertToInteractive('df-3bdb4678-d12e-45e4-ad49-73a5a9746961')\"\n",
       "              title=\"Convert this dataframe to an interactive table.\"\n",
       "              style=\"display:none;\">\n",
       "        \n",
       "  <svg xmlns=\"http://www.w3.org/2000/svg\" height=\"24px\"viewBox=\"0 0 24 24\"\n",
       "       width=\"24px\">\n",
       "    <path d=\"M0 0h24v24H0V0z\" fill=\"none\"/>\n",
       "    <path d=\"M18.56 5.44l.94 2.06.94-2.06 2.06-.94-2.06-.94-.94-2.06-.94 2.06-2.06.94zm-11 1L8.5 8.5l.94-2.06 2.06-.94-2.06-.94L8.5 2.5l-.94 2.06-2.06.94zm10 10l.94 2.06.94-2.06 2.06-.94-2.06-.94-.94-2.06-.94 2.06-2.06.94z\"/><path d=\"M17.41 7.96l-1.37-1.37c-.4-.4-.92-.59-1.43-.59-.52 0-1.04.2-1.43.59L10.3 9.45l-7.72 7.72c-.78.78-.78 2.05 0 2.83L4 21.41c.39.39.9.59 1.41.59.51 0 1.02-.2 1.41-.59l7.78-7.78 2.81-2.81c.8-.78.8-2.07 0-2.86zM5.41 20L4 18.59l7.72-7.72 1.47 1.35L5.41 20z\"/>\n",
       "  </svg>\n",
       "      </button>\n",
       "      \n",
       "  <style>\n",
       "    .colab-df-container {\n",
       "      display:flex;\n",
       "      flex-wrap:wrap;\n",
       "      gap: 12px;\n",
       "    }\n",
       "\n",
       "    .colab-df-convert {\n",
       "      background-color: #E8F0FE;\n",
       "      border: none;\n",
       "      border-radius: 50%;\n",
       "      cursor: pointer;\n",
       "      display: none;\n",
       "      fill: #1967D2;\n",
       "      height: 32px;\n",
       "      padding: 0 0 0 0;\n",
       "      width: 32px;\n",
       "    }\n",
       "\n",
       "    .colab-df-convert:hover {\n",
       "      background-color: #E2EBFA;\n",
       "      box-shadow: 0px 1px 2px rgba(60, 64, 67, 0.3), 0px 1px 3px 1px rgba(60, 64, 67, 0.15);\n",
       "      fill: #174EA6;\n",
       "    }\n",
       "\n",
       "    [theme=dark] .colab-df-convert {\n",
       "      background-color: #3B4455;\n",
       "      fill: #D2E3FC;\n",
       "    }\n",
       "\n",
       "    [theme=dark] .colab-df-convert:hover {\n",
       "      background-color: #434B5C;\n",
       "      box-shadow: 0px 1px 3px 1px rgba(0, 0, 0, 0.15);\n",
       "      filter: drop-shadow(0px 1px 2px rgba(0, 0, 0, 0.3));\n",
       "      fill: #FFFFFF;\n",
       "    }\n",
       "  </style>\n",
       "\n",
       "      <script>\n",
       "        const buttonEl =\n",
       "          document.querySelector('#df-3bdb4678-d12e-45e4-ad49-73a5a9746961 button.colab-df-convert');\n",
       "        buttonEl.style.display =\n",
       "          google.colab.kernel.accessAllowed ? 'block' : 'none';\n",
       "\n",
       "        async function convertToInteractive(key) {\n",
       "          const element = document.querySelector('#df-3bdb4678-d12e-45e4-ad49-73a5a9746961');\n",
       "          const dataTable =\n",
       "            await google.colab.kernel.invokeFunction('convertToInteractive',\n",
       "                                                     [key], {});\n",
       "          if (!dataTable) return;\n",
       "\n",
       "          const docLinkHtml = 'Like what you see? Visit the ' +\n",
       "            '<a target=\"_blank\" href=https://colab.research.google.com/notebooks/data_table.ipynb>data table notebook</a>'\n",
       "            + ' to learn more about interactive tables.';\n",
       "          element.innerHTML = '';\n",
       "          dataTable['output_type'] = 'display_data';\n",
       "          await google.colab.output.renderOutput(dataTable, element);\n",
       "          const docLink = document.createElement('div');\n",
       "          docLink.innerHTML = docLinkHtml;\n",
       "          element.appendChild(docLink);\n",
       "        }\n",
       "      </script>\n",
       "    </div>\n",
       "  </div>\n",
       "  "
      ],
      "text/plain": [
       "                                           Utterance  Dialogue_Act\n",
       "0  say , jim , how about going for a few beers af...             0\n",
       "1  you know that is tempting but is really not go...             0\n",
       "2      what do you mean ? it will help us to relax .             2\n",
       "3  do you really think so ? i don't . it will jus...             2\n",
       "4  i guess you are right.but what shall we do ? i...             2"
      ]
     },
     "execution_count": 4,
     "metadata": {},
     "output_type": "execute_result"
    }
   ],
   "source": [
    "df_train = pd.read_csv('data/train.csv')\n",
    "df_train.drop(['Emotion','Dialogue_ID'], inplace=True, axis=1)\n",
    "df_train['Dialogue_Act'] = df_train['Dialogue_Act'].apply(numLabel)\n",
    "df_train.head()"
   ]
  },
  {
   "cell_type": "code",
   "execution_count": null,
   "metadata": {
    "colab": {
     "base_uri": "https://localhost:8080/",
     "height": 206
    },
    "executionInfo": {
     "elapsed": 159,
     "status": "ok",
     "timestamp": 1657230975305,
     "user": {
      "displayName": "Anyinssan Nava Sánchez",
      "userId": "17620918484939311505"
     },
     "user_tz": 240
    },
    "id": "4kDLYRwCu5ns",
    "outputId": "502c2cf3-956d-44d2-8a3a-d65c386c401d"
   },
   "outputs": [
    {
     "data": {
      "text/html": [
       "\n",
       "  <div id=\"df-45eeb5ef-1799-47ea-bb9e-07cc997e7a47\">\n",
       "    <div class=\"colab-df-container\">\n",
       "      <div>\n",
       "<style scoped>\n",
       "    .dataframe tbody tr th:only-of-type {\n",
       "        vertical-align: middle;\n",
       "    }\n",
       "\n",
       "    .dataframe tbody tr th {\n",
       "        vertical-align: top;\n",
       "    }\n",
       "\n",
       "    .dataframe thead th {\n",
       "        text-align: right;\n",
       "    }\n",
       "</style>\n",
       "<table border=\"1\" class=\"dataframe\">\n",
       "  <thead>\n",
       "    <tr style=\"text-align: right;\">\n",
       "      <th></th>\n",
       "      <th>Utterance</th>\n",
       "      <th>Dialogue_Act</th>\n",
       "    </tr>\n",
       "  </thead>\n",
       "  <tbody>\n",
       "    <tr>\n",
       "      <th>0</th>\n",
       "      <td>good morning , sir . is there a bank near here ?</td>\n",
       "      <td>2</td>\n",
       "    </tr>\n",
       "    <tr>\n",
       "      <th>1</th>\n",
       "      <td>there is one . 5 blocks away from here ?</td>\n",
       "      <td>1</td>\n",
       "    </tr>\n",
       "    <tr>\n",
       "      <th>2</th>\n",
       "      <td>well , that's too far.can you change some mone...</td>\n",
       "      <td>0</td>\n",
       "    </tr>\n",
       "    <tr>\n",
       "      <th>3</th>\n",
       "      <td>surely , of course . what kind of currency hav...</td>\n",
       "      <td>2</td>\n",
       "    </tr>\n",
       "    <tr>\n",
       "      <th>4</th>\n",
       "      <td>rib .</td>\n",
       "      <td>1</td>\n",
       "    </tr>\n",
       "  </tbody>\n",
       "</table>\n",
       "</div>\n",
       "      <button class=\"colab-df-convert\" onclick=\"convertToInteractive('df-45eeb5ef-1799-47ea-bb9e-07cc997e7a47')\"\n",
       "              title=\"Convert this dataframe to an interactive table.\"\n",
       "              style=\"display:none;\">\n",
       "        \n",
       "  <svg xmlns=\"http://www.w3.org/2000/svg\" height=\"24px\"viewBox=\"0 0 24 24\"\n",
       "       width=\"24px\">\n",
       "    <path d=\"M0 0h24v24H0V0z\" fill=\"none\"/>\n",
       "    <path d=\"M18.56 5.44l.94 2.06.94-2.06 2.06-.94-2.06-.94-.94-2.06-.94 2.06-2.06.94zm-11 1L8.5 8.5l.94-2.06 2.06-.94-2.06-.94L8.5 2.5l-.94 2.06-2.06.94zm10 10l.94 2.06.94-2.06 2.06-.94-2.06-.94-.94-2.06-.94 2.06-2.06.94z\"/><path d=\"M17.41 7.96l-1.37-1.37c-.4-.4-.92-.59-1.43-.59-.52 0-1.04.2-1.43.59L10.3 9.45l-7.72 7.72c-.78.78-.78 2.05 0 2.83L4 21.41c.39.39.9.59 1.41.59.51 0 1.02-.2 1.41-.59l7.78-7.78 2.81-2.81c.8-.78.8-2.07 0-2.86zM5.41 20L4 18.59l7.72-7.72 1.47 1.35L5.41 20z\"/>\n",
       "  </svg>\n",
       "      </button>\n",
       "      \n",
       "  <style>\n",
       "    .colab-df-container {\n",
       "      display:flex;\n",
       "      flex-wrap:wrap;\n",
       "      gap: 12px;\n",
       "    }\n",
       "\n",
       "    .colab-df-convert {\n",
       "      background-color: #E8F0FE;\n",
       "      border: none;\n",
       "      border-radius: 50%;\n",
       "      cursor: pointer;\n",
       "      display: none;\n",
       "      fill: #1967D2;\n",
       "      height: 32px;\n",
       "      padding: 0 0 0 0;\n",
       "      width: 32px;\n",
       "    }\n",
       "\n",
       "    .colab-df-convert:hover {\n",
       "      background-color: #E2EBFA;\n",
       "      box-shadow: 0px 1px 2px rgba(60, 64, 67, 0.3), 0px 1px 3px 1px rgba(60, 64, 67, 0.15);\n",
       "      fill: #174EA6;\n",
       "    }\n",
       "\n",
       "    [theme=dark] .colab-df-convert {\n",
       "      background-color: #3B4455;\n",
       "      fill: #D2E3FC;\n",
       "    }\n",
       "\n",
       "    [theme=dark] .colab-df-convert:hover {\n",
       "      background-color: #434B5C;\n",
       "      box-shadow: 0px 1px 3px 1px rgba(0, 0, 0, 0.15);\n",
       "      filter: drop-shadow(0px 1px 2px rgba(0, 0, 0, 0.3));\n",
       "      fill: #FFFFFF;\n",
       "    }\n",
       "  </style>\n",
       "\n",
       "      <script>\n",
       "        const buttonEl =\n",
       "          document.querySelector('#df-45eeb5ef-1799-47ea-bb9e-07cc997e7a47 button.colab-df-convert');\n",
       "        buttonEl.style.display =\n",
       "          google.colab.kernel.accessAllowed ? 'block' : 'none';\n",
       "\n",
       "        async function convertToInteractive(key) {\n",
       "          const element = document.querySelector('#df-45eeb5ef-1799-47ea-bb9e-07cc997e7a47');\n",
       "          const dataTable =\n",
       "            await google.colab.kernel.invokeFunction('convertToInteractive',\n",
       "                                                     [key], {});\n",
       "          if (!dataTable) return;\n",
       "\n",
       "          const docLinkHtml = 'Like what you see? Visit the ' +\n",
       "            '<a target=\"_blank\" href=https://colab.research.google.com/notebooks/data_table.ipynb>data table notebook</a>'\n",
       "            + ' to learn more about interactive tables.';\n",
       "          element.innerHTML = '';\n",
       "          dataTable['output_type'] = 'display_data';\n",
       "          await google.colab.output.renderOutput(dataTable, element);\n",
       "          const docLink = document.createElement('div');\n",
       "          docLink.innerHTML = docLinkHtml;\n",
       "          element.appendChild(docLink);\n",
       "        }\n",
       "      </script>\n",
       "    </div>\n",
       "  </div>\n",
       "  "
      ],
      "text/plain": [
       "                                           Utterance  Dialogue_Act\n",
       "0   good morning , sir . is there a bank near here ?             2\n",
       "1           there is one . 5 blocks away from here ?             1\n",
       "2  well , that's too far.can you change some mone...             0\n",
       "3  surely , of course . what kind of currency hav...             2\n",
       "4                                              rib .             1"
      ]
     },
     "execution_count": 5,
     "metadata": {},
     "output_type": "execute_result"
    }
   ],
   "source": [
    "df_val = pd.read_csv('data/dev.csv')\n",
    "df_val.drop(['Emotion','Dialogue_ID'], inplace=True, axis=1)\n",
    "df_val['Dialogue_Act'] = df_val['Dialogue_Act'].apply(numLabel)\n",
    "df_val.head()"
   ]
  },
  {
   "cell_type": "code",
   "execution_count": null,
   "metadata": {
    "colab": {
     "base_uri": "https://localhost:8080/",
     "height": 206
    },
    "executionInfo": {
     "elapsed": 309,
     "status": "ok",
     "timestamp": 1657230975607,
     "user": {
      "displayName": "Anyinssan Nava Sánchez",
      "userId": "17620918484939311505"
     },
     "user_tz": 240
    },
    "id": "mzhapbyRu95a",
    "outputId": "f375c3e6-70ae-40cb-cd1a-0c6dad42a947"
   },
   "outputs": [
    {
     "data": {
      "text/html": [
       "\n",
       "  <div id=\"df-92a78f2f-bf66-4a73-8013-521ec0447d33\">\n",
       "    <div class=\"colab-df-container\">\n",
       "      <div>\n",
       "<style scoped>\n",
       "    .dataframe tbody tr th:only-of-type {\n",
       "        vertical-align: middle;\n",
       "    }\n",
       "\n",
       "    .dataframe tbody tr th {\n",
       "        vertical-align: top;\n",
       "    }\n",
       "\n",
       "    .dataframe thead th {\n",
       "        text-align: right;\n",
       "    }\n",
       "</style>\n",
       "<table border=\"1\" class=\"dataframe\">\n",
       "  <thead>\n",
       "    <tr style=\"text-align: right;\">\n",
       "      <th></th>\n",
       "      <th>Utterance</th>\n",
       "      <th>Dialogue_Act</th>\n",
       "    </tr>\n",
       "  </thead>\n",
       "  <tbody>\n",
       "    <tr>\n",
       "      <th>0</th>\n",
       "      <td>hey man , you wanna buy some weed ?</td>\n",
       "      <td>0</td>\n",
       "    </tr>\n",
       "    <tr>\n",
       "      <th>1</th>\n",
       "      <td>some what ?</td>\n",
       "      <td>2</td>\n",
       "    </tr>\n",
       "    <tr>\n",
       "      <th>2</th>\n",
       "      <td>weed ! you know ? pot , ganja , mary jane some...</td>\n",
       "      <td>0</td>\n",
       "    </tr>\n",
       "    <tr>\n",
       "      <th>3</th>\n",
       "      <td>oh , umm , no thanks .</td>\n",
       "      <td>0</td>\n",
       "    </tr>\n",
       "    <tr>\n",
       "      <th>4</th>\n",
       "      <td>i also have blow if you prefer to do a few lin...</td>\n",
       "      <td>0</td>\n",
       "    </tr>\n",
       "  </tbody>\n",
       "</table>\n",
       "</div>\n",
       "      <button class=\"colab-df-convert\" onclick=\"convertToInteractive('df-92a78f2f-bf66-4a73-8013-521ec0447d33')\"\n",
       "              title=\"Convert this dataframe to an interactive table.\"\n",
       "              style=\"display:none;\">\n",
       "        \n",
       "  <svg xmlns=\"http://www.w3.org/2000/svg\" height=\"24px\"viewBox=\"0 0 24 24\"\n",
       "       width=\"24px\">\n",
       "    <path d=\"M0 0h24v24H0V0z\" fill=\"none\"/>\n",
       "    <path d=\"M18.56 5.44l.94 2.06.94-2.06 2.06-.94-2.06-.94-.94-2.06-.94 2.06-2.06.94zm-11 1L8.5 8.5l.94-2.06 2.06-.94-2.06-.94L8.5 2.5l-.94 2.06-2.06.94zm10 10l.94 2.06.94-2.06 2.06-.94-2.06-.94-.94-2.06-.94 2.06-2.06.94z\"/><path d=\"M17.41 7.96l-1.37-1.37c-.4-.4-.92-.59-1.43-.59-.52 0-1.04.2-1.43.59L10.3 9.45l-7.72 7.72c-.78.78-.78 2.05 0 2.83L4 21.41c.39.39.9.59 1.41.59.51 0 1.02-.2 1.41-.59l7.78-7.78 2.81-2.81c.8-.78.8-2.07 0-2.86zM5.41 20L4 18.59l7.72-7.72 1.47 1.35L5.41 20z\"/>\n",
       "  </svg>\n",
       "      </button>\n",
       "      \n",
       "  <style>\n",
       "    .colab-df-container {\n",
       "      display:flex;\n",
       "      flex-wrap:wrap;\n",
       "      gap: 12px;\n",
       "    }\n",
       "\n",
       "    .colab-df-convert {\n",
       "      background-color: #E8F0FE;\n",
       "      border: none;\n",
       "      border-radius: 50%;\n",
       "      cursor: pointer;\n",
       "      display: none;\n",
       "      fill: #1967D2;\n",
       "      height: 32px;\n",
       "      padding: 0 0 0 0;\n",
       "      width: 32px;\n",
       "    }\n",
       "\n",
       "    .colab-df-convert:hover {\n",
       "      background-color: #E2EBFA;\n",
       "      box-shadow: 0px 1px 2px rgba(60, 64, 67, 0.3), 0px 1px 3px 1px rgba(60, 64, 67, 0.15);\n",
       "      fill: #174EA6;\n",
       "    }\n",
       "\n",
       "    [theme=dark] .colab-df-convert {\n",
       "      background-color: #3B4455;\n",
       "      fill: #D2E3FC;\n",
       "    }\n",
       "\n",
       "    [theme=dark] .colab-df-convert:hover {\n",
       "      background-color: #434B5C;\n",
       "      box-shadow: 0px 1px 3px 1px rgba(0, 0, 0, 0.15);\n",
       "      filter: drop-shadow(0px 1px 2px rgba(0, 0, 0, 0.3));\n",
       "      fill: #FFFFFF;\n",
       "    }\n",
       "  </style>\n",
       "\n",
       "      <script>\n",
       "        const buttonEl =\n",
       "          document.querySelector('#df-92a78f2f-bf66-4a73-8013-521ec0447d33 button.colab-df-convert');\n",
       "        buttonEl.style.display =\n",
       "          google.colab.kernel.accessAllowed ? 'block' : 'none';\n",
       "\n",
       "        async function convertToInteractive(key) {\n",
       "          const element = document.querySelector('#df-92a78f2f-bf66-4a73-8013-521ec0447d33');\n",
       "          const dataTable =\n",
       "            await google.colab.kernel.invokeFunction('convertToInteractive',\n",
       "                                                     [key], {});\n",
       "          if (!dataTable) return;\n",
       "\n",
       "          const docLinkHtml = 'Like what you see? Visit the ' +\n",
       "            '<a target=\"_blank\" href=https://colab.research.google.com/notebooks/data_table.ipynb>data table notebook</a>'\n",
       "            + ' to learn more about interactive tables.';\n",
       "          element.innerHTML = '';\n",
       "          dataTable['output_type'] = 'display_data';\n",
       "          await google.colab.output.renderOutput(dataTable, element);\n",
       "          const docLink = document.createElement('div');\n",
       "          docLink.innerHTML = docLinkHtml;\n",
       "          element.appendChild(docLink);\n",
       "        }\n",
       "      </script>\n",
       "    </div>\n",
       "  </div>\n",
       "  "
      ],
      "text/plain": [
       "                                           Utterance  Dialogue_Act\n",
       "0                hey man , you wanna buy some weed ?             0\n",
       "1                                        some what ?             2\n",
       "2  weed ! you know ? pot , ganja , mary jane some...             0\n",
       "3                             oh , umm , no thanks .             0\n",
       "4  i also have blow if you prefer to do a few lin...             0"
      ]
     },
     "execution_count": 6,
     "metadata": {},
     "output_type": "execute_result"
    }
   ],
   "source": [
    "df_test = pd.read_csv('data/test.csv')\n",
    "df_test.drop(['Emotion','Dialogue_ID'], inplace=True, axis=1)\n",
    "df_test['Dialogue_Act'] = df_test['Dialogue_Act'].apply(numLabel)\n",
    "df_test.head()"
   ]
  },
  {
   "cell_type": "code",
   "execution_count": null,
   "metadata": {
    "colab": {
     "base_uri": "https://localhost:8080/"
    },
    "executionInfo": {
     "elapsed": 185,
     "status": "ok",
     "timestamp": 1657230975779,
     "user": {
      "displayName": "Anyinssan Nava Sánchez",
      "userId": "17620918484939311505"
     },
     "user_tz": 240
    },
    "id": "calfGmpG9Z3X",
    "outputId": "3566c933-567f-4dbf-9a8d-fe5bea50dd40"
   },
   "outputs": [
    {
     "name": "stdout",
     "output_type": "stream",
     "text": [
      "Size of training set: (87170, 2)\n",
      "Size of validation set: (8069, 2)\n",
      "Size of test set: (7740, 2)\n",
      "\n",
      "Number of duplicate rows in training: (14779, 2)\n",
      "Number of duplicate rows in validation: (387, 2)\n",
      "Number of duplicate rows in test: (271, 2)\n",
      "\n",
      "Final size of train: (72391, 2)\n",
      "Final size of validation: (7682, 2)\n",
      "Final size of test: (7469, 2)\n"
     ]
    }
   ],
   "source": [
    "#Check the size of the data\n",
    "print(f\"Size of training set: {df_train.shape}\")\n",
    "print(f\"Size of validation set: {df_val.shape}\")\n",
    "print(f\"Size of test set: {df_test.shape}\\n\")\n",
    "\n",
    "#Check and delete for duplicates\n",
    "print(f\"Number of duplicate rows in training: {df_train[df_train.duplicated()].shape}\")\n",
    "df_train.drop_duplicates(subset=None, keep=\"first\", inplace=True)\n",
    "print(f\"Number of duplicate rows in validation: {df_val[df_val.duplicated()].shape}\")\n",
    "df_val.drop_duplicates(subset=None, keep=\"first\", inplace=True)\n",
    "print(f\"Number of duplicate rows in test: {df_test[df_test.duplicated()].shape}\\n\")\n",
    "df_test.drop_duplicates(subset=None, keep=\"first\", inplace=True)\n",
    "\n",
    "print(f\"Final size of train: {df_train.shape}\")\n",
    "print(f\"Final size of validation: {df_val.shape}\")\n",
    "print(f\"Final size of test: {df_test.shape}\")\n",
    "\n",
    "df_train = df_train.reset_index()\n",
    "df_val = df_val.reset_index()\n",
    "df_test = df_test.reset_index()"
   ]
  },
  {
   "cell_type": "markdown",
   "metadata": {
    "id": "-clcFd58Yy-7"
   },
   "source": [
    "## Data Preprocessing"
   ]
  },
  {
   "cell_type": "code",
   "execution_count": null,
   "metadata": {
    "id": "ThLo15zI6KC5"
   },
   "outputs": [],
   "source": [
    "def preprocess(sentence,lemma=True):\n",
    "  #Remove url links\n",
    "  proc_sent = re.sub(r'https?:\\/\\/.*[\\r\\n]*','',sentence)\n",
    "\n",
    "  #Delete non-ASCII values\n",
    "  proc_sent = str(proc_sent.encode(\"ascii\",\"ignore\"))[1:]\n",
    "\n",
    "  #Remove punctuation\n",
    "  proc_sent = ''.join([char for char in proc_sent if char not in string.punctuation])\n",
    "\n",
    "  #Parse to lower case\n",
    "  proc_sent = proc_sent.lower()\n",
    "\n",
    "  #Tokenize and remove stop words\n",
    "  stop_words = stopwords.words('english')\n",
    "  proc_sent = word_tokenize(proc_sent) #serves to separate each word as a unique element\n",
    "  proc_sent = [word for word in proc_sent if word not in stop_words]\n",
    "\n",
    "  #Remove single letters\n",
    "  proc_sent = [word for word in proc_sent if len(word) != 1]\n",
    "\n",
    "  #Stem or lemmatize (just 1)\n",
    "  if lemma:\n",
    "    lemmatizer = WordNetLemmatizer()\n",
    "    proc_sent = [lemmatizer.lemmatize(word) for word in proc_sent]\n",
    "  else:\n",
    "    porter = PorterStemmer()\n",
    "    proc_sent = [porter.stem(word) for word in proc_sent] #Stemming\n",
    "\n",
    "  return proc_sent"
   ]
  },
  {
   "cell_type": "code",
   "execution_count": null,
   "metadata": {
    "colab": {
     "base_uri": "https://localhost:8080/"
    },
    "executionInfo": {
     "elapsed": 52555,
     "status": "ok",
     "timestamp": 1657231028481,
     "user": {
      "displayName": "Anyinssan Nava Sánchez",
      "userId": "17620918484939311505"
     },
     "user_tz": 240
    },
    "id": "3OYDPZHumIW7",
    "outputId": "a6f4829e-8715-4582-c02e-81e2e54e00c8"
   },
   "outputs": [
    {
     "name": "stdout",
     "output_type": "stream",
     "text": [
      "72391 train observations...\n",
      "7682 validation observations...\n",
      "7469 test observations...\n"
     ]
    }
   ],
   "source": [
    "df_train['Utterance'] = df_train['Utterance'].apply(preprocess)\n",
    "print(f\"{len(df_train)} train observations...\")\n",
    "df_val['Utterance'] = df_val['Utterance'].apply(preprocess)\n",
    "print(f\"{len(df_val)} validation observations...\")\n",
    "df_test['Utterance'] = df_test['Utterance'].apply(preprocess)\n",
    "print(f\"{len(df_test)} test observations...\")"
   ]
  },
  {
   "cell_type": "code",
   "execution_count": null,
   "metadata": {
    "id": "ZmFyjSkO-125"
   },
   "outputs": [],
   "source": [
    "df_train.drop('index', inplace = True, axis = 1)\n",
    "df_val.drop('index', inplace = True, axis = 1)\n",
    "df_test.drop('index', inplace = True, axis = 1)"
   ]
  },
  {
   "cell_type": "code",
   "execution_count": null,
   "metadata": {
    "colab": {
     "base_uri": "https://localhost:8080/",
     "height": 506
    },
    "executionInfo": {
     "elapsed": 191,
     "status": "ok",
     "timestamp": 1657231028636,
     "user": {
      "displayName": "Anyinssan Nava Sánchez",
      "userId": "17620918484939311505"
     },
     "user_tz": 240
    },
    "id": "KOJ1fGgEQXLe",
    "outputId": "f3fff1bc-79ec-413c-bd19-aa1c22892ff9"
   },
   "outputs": [
    {
     "data": {
      "text/plain": [
       "Text(0.5, 1.0, 'Sentences by class')"
      ]
     },
     "execution_count": 11,
     "metadata": {},
     "output_type": "execute_result"
    },
    {
     "data": {
      "text/plain": [
       "<Figure size 432x288 with 0 Axes>"
      ]
     },
     "metadata": {},
     "output_type": "display_data"
    },
    {
     "data": {
      "image/png": "[encoded data removed]",
      "text/plain": [
       "<Figure size 720x504 with 1 Axes>"
      ]
     },
     "metadata": {
      "needs_background": "light"
     },
     "output_type": "display_data"
    }
   ],
   "source": [
    "plt.figure()\n",
    "fig, ax = plt.subplots(figsize=(10,7))\n",
    "N, bins, patches = plt.hist(df_train['Dialogue_Act'], bins=3)\n",
    "ax.set_xticks(np.arange(3))\n",
    "ax.set_xticklabels(['Talk:0','Inform:1','Question:2'], size=13)\n",
    "for i in range(len(N)):\n",
    "  patches[i].set_facecolor(\"#\" + ''.join(random.choices(\"ABCDEF\" + string.digits, k=6)))\n",
    "\n",
    "plt.ylabel(\"Occurrences\", size=15)\n",
    "plt.xlabel(\"Sentence class\", size=15)\n",
    "plt.title(\"Sentences by class\", size=20)"
   ]
  },
  {
   "cell_type": "code",
   "execution_count": null,
   "metadata": {
    "colab": {
     "base_uri": "https://localhost:8080/",
     "height": 503
    },
    "executionInfo": {
     "elapsed": 500,
     "status": "ok",
     "timestamp": 1657231029131,
     "user": {
      "displayName": "Anyinssan Nava Sánchez",
      "userId": "17620918484939311505"
     },
     "user_tz": 240
    },
    "id": "TGMoTZ-GjUnN",
    "outputId": "59eedb05-74dc-4f1d-9de0-96105b33bb2b"
   },
   "outputs": [
    {
     "data": {
      "text/plain": [
       "Text(0.5, 1.0, \"Analysis of sentence's length\")"
      ]
     },
     "execution_count": 12,
     "metadata": {},
     "output_type": "execute_result"
    },
    {
     "data": {
      "text/plain": [
       "<Figure size 432x288 with 0 Axes>"
      ]
     },
     "metadata": {},
     "output_type": "display_data"
    },
    {
     "data": {
      "image/png": "[encoded data removed]",
      "text/plain": [
       "<Figure size 720x504 with 1 Axes>"
      ]
     },
     "metadata": {
      "needs_background": "light"
     },
     "output_type": "display_data"
    }
   ],
   "source": [
    "lengths = [len(i) for i in df_train['Utterance']]\n",
    "uniques = np.unique(lengths)\n",
    "bins = [i for i in range(30)]\n",
    "\n",
    "plt.figure()\n",
    "fig, ax = plt.subplots(figsize=(10,7))\n",
    "N, bins, patches = plt.hist(lengths, bins=bins, orientation='horizontal', edgecolor='white', linewidth=1, align='left')\n",
    "ax.set_yticks(np.arange(30))\n",
    "# ax.set_yticklabels(uniques, size=10)\n",
    "for i in range(len(N)):\n",
    "  patches[i].set_facecolor(\"#\" + ''.join(random.choices(\"ABCDEF\" + string.digits, k=6)))\n",
    "\n",
    "plt.ylabel(\"Sentence length\", size=15)\n",
    "plt.xlabel(\"Number of sentences\", size=15)\n",
    "plt.title(\"Analysis of sentence's length\", size=20)"
   ]
  },
  {
   "cell_type": "code",
   "execution_count": null,
   "metadata": {
    "id": "ZuVlUx69rLjD"
   },
   "outputs": [],
   "source": [
    "# #Remove short sentences\n",
    "#size = int(np.mean(np.arange(2,16)))\n",
    "\n",
    "#for i in range(len(df_train['Utterance'])):\n",
    "  #Save as is if the size is between the margins\n",
    "  #Clip the long sentences to make them shorter\n",
    "#  if len(df_train['Utterance'][i]) > 16:\n",
    "#    df_train['Utterance'][i] = df_train['Utterance'][i][:size]\n",
    "#  elif len(df_train['Utterance'][i]) < 2:\n",
    "   # df_train.drop([i], axis=0, inplace=True)\n",
    "\n",
    "#df_train = df_train.reset_index()\n",
    "#print(f\"{len(df_train)} observations...\")\n",
    "#print(f\"Mean size for clipping sentences: {size}\")"
   ]
  },
  {
   "cell_type": "code",
   "execution_count": null,
   "metadata": {
    "colab": {
     "base_uri": "https://localhost:8080/",
     "height": 572
    },
    "executionInfo": {
     "elapsed": 455,
     "status": "ok",
     "timestamp": 1657231029571,
     "user": {
      "displayName": "Anyinssan Nava Sánchez",
      "userId": "17620918484939311505"
     },
     "user_tz": 240
    },
    "id": "KXqjakCStUd4",
    "outputId": "aab5322f-b7f8-4a99-cddc-2bbcd91fb6ba"
   },
   "outputs": [
    {
     "name": "stdout",
     "output_type": "stream",
     "text": [
      "[  0   1   2   3   4   5   6   7   8   9  10  11  12  13  14  15  16  17\n",
      "  18  19  20  21  22  23  24  25  26  27  28  29  30  31  32  33  34  35\n",
      "  36  37  38  39  40  41  42  43  44  45  46  47  48  49  50  53  54  55\n",
      "  58  60  61  62  64  67  72  74  76  93  97  98 117]\n"
     ]
    },
    {
     "data": {
      "text/plain": [
       "Text(0.5, 1.0, 'Analysis of stemmed sentences')"
      ]
     },
     "execution_count": 14,
     "metadata": {},
     "output_type": "execute_result"
    },
    {
     "data": {
      "text/plain": [
       "<Figure size 432x288 with 0 Axes>"
      ]
     },
     "metadata": {},
     "output_type": "display_data"
    },
    {
     "data": {
      "image/png": "[encoded data removed]",
      "text/plain": [
       "<Figure size 720x504 with 1 Axes>"
      ]
     },
     "metadata": {
      "needs_background": "light"
     },
     "output_type": "display_data"
    }
   ],
   "source": [
    "lengths = [len(i) for i in df_train['Utterance']]\n",
    "uniques = np.unique(lengths)\n",
    "print(uniques)\n",
    "bins = [i for i in range(20)]\n",
    "\n",
    "plt.figure()\n",
    "fig, ax = plt.subplots(figsize=(10,7))\n",
    "N, bins, patches = plt.hist(lengths, bins=bins, orientation='horizontal', edgecolor='white', linewidth=1, align='left')\n",
    "ax.set_yticks(np.arange(18))\n",
    "for i in range(len(N)):\n",
    "  patches[i].set_facecolor(\"#\" + ''.join(random.choices(\"ABCDEF\" + string.digits, k=6)))\n",
    "\n",
    "plt.ylabel(\"Sentence length\", size=15)\n",
    "plt.xlabel(\"Number of sentences\", size=15)\n",
    "plt.title(\"Analysis of stemmed sentences\", size=20)"
   ]
  },
  {
   "cell_type": "code",
   "execution_count": null,
   "metadata": {
    "id": "8ErttRs6y4Cs"
   },
   "outputs": [],
   "source": [
    "def pd_to_tensor_data (data):\n",
    "  new_tensor_data = tf.data.Dataset.from_tensor_slices(\n",
    "    (\n",
    "        tf.cast(data[\"Utterance\"].values, tf.string),\n",
    "        tf.cast(data[\"Dialogue_Act\"].values, tf.int64)\n",
    "        )\n",
    "  ).batch(1)  ##For the requeriments for the Albert model, we do this because we need to indtroduce the data like tensors\n",
    "  return new_tensor_data      "
   ]
  },
  {
   "cell_type": "code",
   "execution_count": null,
   "metadata": {
    "colab": {
     "base_uri": "https://localhost:8080/"
    },
    "executionInfo": {
     "elapsed": 16,
     "status": "ok",
     "timestamp": 1657231029574,
     "user": {
      "displayName": "Anyinssan Nava Sánchez",
      "userId": "17620918484939311505"
     },
     "user_tz": 240
    },
    "id": "PLqt5Kc8K_xl",
    "outputId": "cd0adba6-ff5a-4292-b659-6036cdd5e764"
   },
   "outputs": [
    {
     "data": {
      "text/plain": [
       "0                          [say, jim, going, beer, dinner]\n",
       "1                  [know, tempting, really, good, fitness]\n",
       "2                                   [mean, help, u, relax]\n",
       "3        [really, think, dont, make, u, fat, act, silly...\n",
       "4        [guess, rightbut, shall, dont, feel, like, sit...\n",
       "                               ...                        \n",
       "72386                                  [want, pair, locus]\n",
       "72387                   [take, look, one, display, please]\n",
       "72388                                     [need, size, 41]\n",
       "72389                               [could, check, please]\n",
       "72390                                  [okay, ill, minute]\n",
       "Name: Utterance, Length: 72391, dtype: object"
      ]
     },
     "execution_count": 16,
     "metadata": {},
     "output_type": "execute_result"
    }
   ],
   "source": [
    "df_train['Utterance']"
   ]
  },
  {
   "cell_type": "code",
   "execution_count": null,
   "metadata": {
    "id": "KGlTBKPFyy2S"
   },
   "outputs": [],
   "source": [
    "def join_text (text):\n",
    "  return \" \".join(text)"
   ]
  },
  {
   "cell_type": "code",
   "execution_count": null,
   "metadata": {
    "id": "LHgSUtl69hip"
   },
   "outputs": [],
   "source": [
    "df_train['Utterance'] = df_train['Utterance'].apply(join_text)\n",
    "df_val['Utterance'] = df_val['Utterance'].apply(join_text)\n",
    "df_test['Utterance'] = df_test['Utterance'].apply(join_text)"
   ]
  },
  {
   "cell_type": "code",
   "execution_count": null,
   "metadata": {
    "colab": {
     "base_uri": "https://localhost:8080/"
    },
    "executionInfo": {
     "elapsed": 15,
     "status": "ok",
     "timestamp": 1657231029578,
     "user": {
      "displayName": "Anyinssan Nava Sánchez",
      "userId": "17620918484939311505"
     },
     "user_tz": 240
    },
    "id": "Ek5ZyOj9Lo0T",
    "outputId": "b721850e-4301-4faa-dca2-490c33212980"
   },
   "outputs": [
    {
     "data": {
      "text/plain": [
       "0                                say jim going beer dinner\n",
       "1                        know tempting really good fitness\n",
       "2                                        mean help u relax\n",
       "3        really think dont make u fat act silly remembe...\n",
       "4         guess rightbut shall dont feel like sitting home\n",
       "                               ...                        \n",
       "72386                                      want pair locus\n",
       "72387                         take look one display please\n",
       "72388                                         need size 41\n",
       "72389                                   could check please\n",
       "72390                                      okay ill minute\n",
       "Name: Utterance, Length: 72391, dtype: object"
      ]
     },
     "execution_count": 19,
     "metadata": {},
     "output_type": "execute_result"
    }
   ],
   "source": [
    "df_train['Utterance']"
   ]
  },
  {
   "cell_type": "code",
   "execution_count": null,
   "metadata": {
    "id": "NqPHa3XP0ccE"
   },
   "outputs": [],
   "source": [
    "tensor_train = pd_to_tensor_data(df_train)\n",
    "tensor_validation = pd_to_tensor_data(df_val)\n",
    "tensor_test = pd_to_tensor_data(df_test)"
   ]
  },
  {
   "cell_type": "markdown",
   "metadata": {
    "id": "cy7JNCTcY2Kn"
   },
   "source": [
    "## Model Creation"
   ]
  },
  {
   "cell_type": "markdown",
   "metadata": {
    "id": "hJ3307NQ6M08"
   },
   "source": [
    "Create the embeddings"
   ]
  },
  {
   "cell_type": "code",
   "execution_count": null,
   "metadata": {
    "id": "22vELmKD6QyA"
   },
   "outputs": [],
   "source": [
    "# embedding = \"https://tfhub.dev/google/universal-sentence-encoder/4\"\n",
    "# hub_layer = hub.KerasLayer(embedding,\n",
    "#                            input_shape=[],\n",
    "#                            dtype=tf.string,\n",
    "#                            trainable=True)"
   ]
  },
  {
   "cell_type": "code",
   "execution_count": null,
   "metadata": {
    "id": "LkfI0FOt7JSf"
   },
   "outputs": [],
   "source": [
    "tfhub_handle_encoder = 'https://tfhub.dev/tensorflow/albert_en_base/2'    ## To use the albert model, this meanas that you are gonna use the encoder ofthe albert model\n",
    "tfhub_handle_preprocess = 'https://tfhub.dev/tensorflow/albert_en_preprocess/3'      ## its the embbeder tha iam gonna use to convert the words in vectors\n",
    "                                                                                      ## embeddin is transform the words into vector in order to be able to run a model"
   ]
  },
  {
   "cell_type": "code",
   "execution_count": null,
   "metadata": {
    "id": "a5L0-WHx7aBS"
   },
   "outputs": [],
   "source": [
    "def build_classifier_model():\n",
    "  text_input = tf.keras.layers.Input(shape=(),\n",
    "                                     dtype=tf.string,\n",
    "                                     name='text')\n",
    "  preprocessing_layer = hub.KerasLayer(tfhub_handle_preprocess, # turn the words into vectors\n",
    "                                       name='preprocessing')\n",
    "  encoder_inputs = preprocessing_layer(text_input)\n",
    "  encoder = hub.KerasLayer(tfhub_handle_encoder,   ## call the model albert \n",
    "                           trainable=False, #leave the original weights \n",
    "                           name = 'BERT_encoder')\n",
    "  outputs = encoder(encoder_inputs)  #running the preddictions with Albert\n",
    "  net = outputs['pooled_output']  \n",
    "  net = tf.keras.layers.Dropout(0.1)(net)   ## turn off the 10 percentage of the neurons\n",
    "  net = tf.keras.layers.Dense(3,\n",
    "                              activation = 'softmax',\n",
    "                              name = 'classifier') (net)\n",
    "  return tf.keras.Model(text_input, net)"
   ]
  },
  {
   "cell_type": "code",
   "execution_count": null,
   "metadata": {
    "id": "HEvsyc5b7doQ"
   },
   "outputs": [],
   "source": [
    "classifier_model = build_classifier_model()"
   ]
  },
  {
   "cell_type": "code",
   "execution_count": null,
   "metadata": {
    "id": "0Dy2S-yG8AaE"
   },
   "outputs": [],
   "source": [
    "epochs = 7\n",
    "steps_per_epoch = tf.data.experimental.cardinality(tensor_train).numpy()\n",
    "num_train_steps = steps_per_epoch * epochs\n",
    "num_warmup_steps = int(0.1*num_train_steps)\n",
    "\n",
    "init_lr = 5e-5\n",
    "optimizer = optimization.create_optimizer(init_lr=init_lr,\n",
    "                                          num_train_steps=num_train_steps,\n",
    "                                          num_warmup_steps=num_warmup_steps,\n",
    "                                          optimizer_type='adamw')"
   ]
  },
  {
   "cell_type": "code",
   "execution_count": null,
   "metadata": {
    "id": "HnRf_6qx8I50"
   },
   "outputs": [],
   "source": [
    "loss = tf.keras.losses.SparseCategoricalCrossentropy()\n",
    "metrics = tf.metrics.SparseCategoricalAccuracy()"
   ]
  },
  {
   "cell_type": "code",
   "execution_count": null,
   "metadata": {
    "id": "5PtGWrKd8rSI"
   },
   "outputs": [],
   "source": [
    "classifier_model.compile(optimizer=optimizer,\n",
    "                         loss=loss,\n",
    "                         metrics = metrics)"
   ]
  },
  {
   "cell_type": "code",
   "execution_count": null,
   "metadata": {
    "colab": {
     "base_uri": "https://localhost:8080/"
    },
    "id": "arCfH8c38xpf",
    "outputId": "1ec6bfed-16fe-43ea-f9cc-0965a678a7e4"
   },
   "outputs": [
    {
     "name": "stdout",
     "output_type": "stream",
     "text": [
      "Epoch 1/7\n",
      "72391/72391 [==============================] - 1235s 17ms/step - loss: 0.9036 - sparse_categorical_accuracy: 0.7129 - val_loss: 0.8999 - val_sparse_categorical_accuracy: 0.6854\n",
      "Epoch 2/7\n",
      "72391/72391 [==============================] - 1237s 17ms/step - loss: 0.9099 - sparse_categorical_accuracy: 0.7143 - val_loss: 0.8835 - val_sparse_categorical_accuracy: 0.6898\n",
      "Epoch 3/7\n",
      "72391/72391 [==============================] - 1242s 17ms/step - loss: 0.9051 - sparse_categorical_accuracy: 0.7165 - val_loss: 0.8865 - val_sparse_categorical_accuracy: 0.6902\n",
      "Epoch 4/7\n",
      "72391/72391 [==============================] - 1232s 17ms/step - loss: 0.9028 - sparse_categorical_accuracy: 0.7188 - val_loss: 0.8835 - val_sparse_categorical_accuracy: 0.6919\n",
      "Epoch 5/7\n",
      "72391/72391 [==============================] - 1232s 17ms/step - loss: 0.9004 - sparse_categorical_accuracy: 0.7187 - val_loss: 0.8805 - val_sparse_categorical_accuracy: 0.6933\n",
      "Epoch 6/7\n",
      "72391/72391 [==============================] - 1233s 17ms/step - loss: 0.8991 - sparse_categorical_accuracy: 0.7200 - val_loss: 0.8710 - val_sparse_categorical_accuracy: 0.6916\n",
      "Epoch 7/7\n",
      "61513/72391 [========================>.....] - ETA: 2:49 - loss: 0.9027 - sparse_categorical_accuracy: 0.7245"
     ]
    }
   ],
   "source": [
    "history = classifier_model.fit(x=tensor_train,\n",
    "                               validation_data=tensor_validation,\n",
    "                               epochs=epochs)"
   ]
  },
  {
   "cell_type": "code",
   "execution_count": null,
   "metadata": {
    "colab": {
     "base_uri": "https://localhost:8080/",
     "height": 183
    },
    "executionInfo": {
     "elapsed": 1056,
     "status": "error",
     "timestamp": 1657341262305,
     "user": {
      "displayName": "Anyinssan Nava Sánchez",
      "userId": "17620918484939311505"
     },
     "user_tz": 240
    },
    "id": "Wx1wjjen83lH",
    "outputId": "d8815e0a-2139-4f1c-d4be-c819510bed34"
   },
   "outputs": [],
   "source": [
    "loss, accuracy = classifier_model.evaluate(df_test)\n",
    "print(f\"Loss: {loss} and Accuracy: {accuracy}\")"
   ]
  },
  {
   "cell_type": "code",
   "execution_count": null,
   "metadata": {
    "id": "RlaU6iK59UkI"
   },
   "outputs": [],
   "source": [
    "history.keys()"
   ]
  },
  {
   "cell_type": "code",
   "execution_count": null,
   "metadata": {
    "id": "v0RvT-Ut9Efh"
   },
   "outputs": [],
   "source": [
    "# history_dict = history.history\n",
    "# print(history_dict.keys())\n",
    "\n",
    "# acc = history_dict['binary_accuracy']\n",
    "# val_acc = history_dict['val_binary_accuracy']\n",
    "# loss = history_dict['loss']\n",
    "# val_loss = history_dict['val_loss']\n",
    "\n",
    "# epochs = range(1, len(acc) + 1)\n",
    "# fig = plt.figure(figsize=(10, 6))\n",
    "# fig.tight_layout()\n",
    "\n",
    "# plt.subplot(2, 1, 1)\n",
    "# # r is for \"solid red line\"\n",
    "# plt.plot(epochs, loss, 'r', label='Training loss')\n",
    "# # b is for \"solid blue line\"\n",
    "# plt.plot(epochs, val_loss, 'b', label='Validation loss')\n",
    "# plt.title('Training and validation loss')\n",
    "# # plt.xlabel('Epochs')\n",
    "# plt.ylabel('Loss')\n",
    "# plt.legend()\n",
    "\n",
    "# plt.subplot(2, 1, 2)\n",
    "# plt.plot(epochs, acc, 'r', label='Training acc')\n",
    "# plt.plot(epochs, val_acc, 'b', label='Validation acc')\n",
    "# plt.title('Training and validation accuracy')\n",
    "# plt.xlabel('Epochs')\n",
    "# plt.ylabel('Accuracy')\n",
    "# plt.legend(loc='lower right')"
   ]
  },
  {
   "cell_type": "code",
   "execution_count": null,
   "metadata": {
    "id": "MQU4c8Fn9fxE"
   },
   "outputs": [],
   "source": [
    "dataset_name = 'silicone_dyda'\n",
    "saved_model_path = './{}_bert'.format(dataset_name.replace('/', '_'))\n",
    "\n",
    "classifier_model.save(saved_model_path, include_optimizer=False)"
   ]
  },
  {
   "cell_type": "code",
   "execution_count": null,
   "metadata": {
    "id": "2JXGdIqfY88i"
   },
   "outputs": [],
   "source": [
    "# model = keras.Sequential()\n",
    "# model.add(hub_layer)  #Embedding layer\n",
    "# model.add(keras.layers.Dense(1024, activation='relu'))\n",
    "# model.add(keras.layers.Dropout(.2))\n",
    "# model.add(keras.layers.Dense(512, activation='tanh'))\n",
    "# model.add(keras.layers.Dropout(.2))\n",
    "# model.add(keras.layers.Dense(512, activation='relu'))\n",
    "# model.add(keras.layers.Dropout(.2))\n",
    "# model.add(keras.layers.Dense(256, activation='relu'))\n",
    "# model.add(keras.layers.Dropout(.2))\n",
    "# model.add(keras.layers.Dense(128, activation='relu'))\n",
    "# model.add(keras.layers.Dropout(.1))\n",
    "# model.add(keras.layers.Dense(20, activation='relu'))\n",
    "# model.add(keras.layers.Dropout(.2))\n",
    "# model.add(keras.layers.Dense(3, activation='softmax'))\n",
    "# model.summary()"
   ]
  },
  {
   "cell_type": "code",
   "execution_count": null,
   "metadata": {
    "id": "kXoDtU6BCHlp"
   },
   "outputs": [],
   "source": [
    "# model.compile(optimizer = 'Nadam',\n",
    "#               loss = keras.losses.SparseCategoricalCrossentropy(),\n",
    "#               metrics = ['accuracy'])"
   ]
  },
  {
   "cell_type": "code",
   "execution_count": null,
   "metadata": {
    "id": "xOjs_PVq9-Tl"
   },
   "outputs": [],
   "source": [
    "# history = model.fit(tensor_train.shuffle(10000).batch(512),\n",
    "#                     epochs = 100,\n",
    "#                     validation_data = tensor_validation.batch(512),\n",
    "#                     verbose = 1)"
   ]
  },
  {
   "cell_type": "code",
   "execution_count": null,
   "metadata": {
    "id": "meWS7kyAPn5E"
   },
   "outputs": [],
   "source": [
    "# plt.figure(figsize=(10,7))\n",
    "# plt.plot(history.history['accuracy'])\n",
    "# plt.plot(history.history['val_accuracy'])\n",
    "# plt.title('Model Accuracy')\n",
    "# plt.ylabel('Accuracy')\n",
    "# plt.xlabel('Epoch')\n",
    "# plt.legend(['Train', 'Validation'], loc='upper left')\n",
    "# plt.show()\n",
    "\n",
    "# plt.figure(figsize=(10,7))\n",
    "# plt.plot(history.history['loss'])\n",
    "# plt.plot(history.history['val_loss'])\n",
    "# plt.title('Model Loss')\n",
    "# plt.ylabel('Loss')\n",
    "# plt.xlabel('Epoch')\n",
    "# plt.legend(['Train', 'Validation'], loc='upper right')\n",
    "# plt.show()"
   ]
  },
  {
   "cell_type": "markdown",
   "metadata": {
    "id": "y7EN1lRadcXH"
   },
   "source": [
    "https://huggingface.co/datasets/silicone\n",
    "\n",
    "https://huggingface.co/datasets/silicone/tree/main/dummy/dyda_da/1.0.0"
   ]
  }
 ],
 "metadata": {
  "accelerator": "GPU",
  "colab": {
   "collapsed_sections": [],
   "name": "NLP.ipynb",
   "provenance": []
  },
  "gpuClass": "standard",
  "kernelspec": {
   "display_name": "Python 3 (ipykernel)",
   "language": "python",
   "name": "python3"
  },
  "language_info": {
   "codemirror_mode": {
    "name": "ipython",
    "version": 3
   },
   "file_extension": ".py",
   "mimetype": "text/x-python",
   "name": "python",
   "nbconvert_exporter": "python",
   "pygments_lexer": "ipython3",
   "version": "3.9.12"
  }
 },
 "nbformat": 4,
 "nbformat_minor": 1
}
